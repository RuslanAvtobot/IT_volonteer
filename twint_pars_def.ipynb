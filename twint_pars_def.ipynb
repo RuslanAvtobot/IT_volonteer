{
  "nbformat": 4,
  "nbformat_minor": 0,
  "metadata": {
    "colab": {
      "name": "twint_pars_def.ipynb",
      "provenance": [],
      "collapsed_sections": [],
      "authorship_tag": "ABX9TyMxy3tAfqfCg1A24KgnIMVE",
      "include_colab_link": true
    },
    "kernelspec": {
      "name": "python3",
      "display_name": "Python 3"
    },
    "language_info": {
      "name": "python"
    }
  },
  "cells": [
    {
      "cell_type": "markdown",
      "metadata": {
        "id": "view-in-github",
        "colab_type": "text"
      },
      "source": [
        "<a href=\"https://colab.research.google.com/github/RuslanAvtobot/IT_volonteer/blob/main/twint_pars_def.ipynb\" target=\"_parent\"><img src=\"https://colab.research.google.com/assets/colab-badge.svg\" alt=\"Open In Colab\"/></a>"
      ]
    },
    {
      "cell_type": "code",
      "execution_count": null,
      "metadata": {
        "id": "Nwck8caumqJg"
      },
      "outputs": [],
      "source": [
        "import pandas as pd\n",
        "import numpy as np"
      ]
    },
    {
      "cell_type": "code",
      "source": [
        "!pwd"
      ],
      "metadata": {
        "id": "Q_TiH1sUycL-",
        "colab": {
          "base_uri": "https://localhost:8080/"
        },
        "outputId": "14fc5f29-c978-4b79-b16a-30fee2833c6e"
      },
      "execution_count": null,
      "outputs": [
        {
          "output_type": "stream",
          "name": "stdout",
          "text": [
            "/content\n"
          ]
        }
      ]
    },
    {
      "cell_type": "code",
      "source": [
        "cd sample_data/"
      ],
      "metadata": {
        "colab": {
          "base_uri": "https://localhost:8080/"
        },
        "id": "Zx9KNkDJzkGF",
        "outputId": "1efeabb1-9984-46a0-ce92-831e382e219b"
      },
      "execution_count": null,
      "outputs": [
        {
          "output_type": "stream",
          "name": "stdout",
          "text": [
            "/content/sample_data\n"
          ]
        }
      ]
    },
    {
      "cell_type": "code",
      "source": [
        "!ls"
      ],
      "metadata": {
        "id": "qY5SrEyOzor-",
        "colab": {
          "base_uri": "https://localhost:8080/"
        },
        "outputId": "a808c792-4ca9-48bb-ce1a-47fc42a0a486"
      },
      "execution_count": null,
      "outputs": [
        {
          "output_type": "stream",
          "name": "stdout",
          "text": [
            "anscombe.json\t\t      mnist_test.csv\n",
            "california_housing_test.csv   mnist_train_small.csv\n",
            "california_housing_train.csv  README.md\n"
          ]
        }
      ]
    },
    {
      "cell_type": "code",
      "source": [
        "!git clone --depth=2 https://github.com/DmitryVerhov/twint_fixed.git"
      ],
      "metadata": {
        "id": "LEOooa3vzrfq",
        "colab": {
          "base_uri": "https://localhost:8080/"
        },
        "outputId": "80965295-4ba6-454c-c133-502ea2c91449"
      },
      "execution_count": null,
      "outputs": [
        {
          "output_type": "stream",
          "name": "stdout",
          "text": [
            "Cloning into 'twint_fixed'...\n",
            "remote: Enumerating objects: 50, done.\u001b[K\n",
            "remote: Counting objects: 100% (1/1), done.\u001b[K\n",
            "remote: Total 50 (delta 0), reused 0 (delta 0), pack-reused 49\u001b[K\n",
            "Unpacking objects: 100% (50/50), done.\n"
          ]
        }
      ]
    },
    {
      "cell_type": "code",
      "source": [
        "!pwd"
      ],
      "metadata": {
        "id": "6XRFXWpxz0gm",
        "colab": {
          "base_uri": "https://localhost:8080/"
        },
        "outputId": "ab885e5c-adfa-47f8-f73b-f7a2ac06d413"
      },
      "execution_count": null,
      "outputs": [
        {
          "output_type": "stream",
          "name": "stdout",
          "text": [
            "/content/sample_data\n"
          ]
        }
      ]
    },
    {
      "cell_type": "code",
      "source": [
        "!ls"
      ],
      "metadata": {
        "colab": {
          "base_uri": "https://localhost:8080/"
        },
        "id": "sgZgXcnhTY5g",
        "outputId": "9be0571e-c697-482b-b9e9-632aa09ac910"
      },
      "execution_count": null,
      "outputs": [
        {
          "output_type": "stream",
          "name": "stdout",
          "text": [
            "anscombe.json\t\t      mnist_test.csv\t     twint_fixed\n",
            "california_housing_test.csv   mnist_train_small.csv\n",
            "california_housing_train.csv  README.md\n"
          ]
        }
      ]
    },
    {
      "cell_type": "code",
      "source": [
        "cd twint_fixed\\"
      ],
      "metadata": {
        "colab": {
          "base_uri": "https://localhost:8080/"
        },
        "id": "VjiKjjE60e_i",
        "outputId": "400cf481-218b-4bb6-be10-0890f115e0d9"
      },
      "execution_count": null,
      "outputs": [
        {
          "output_type": "stream",
          "name": "stdout",
          "text": [
            "/content/sample_data/twint_fixed\n"
          ]
        }
      ]
    },
    {
      "cell_type": "code",
      "source": [
        "!ls"
      ],
      "metadata": {
        "id": "wIxckoT62bC0",
        "colab": {
          "base_uri": "https://localhost:8080/"
        },
        "outputId": "a4dcdaae-ad4e-45c2-b145-3ad2df67e67b"
      },
      "execution_count": null,
      "outputs": [
        {
          "output_type": "stream",
          "name": "stdout",
          "text": [
            "twint\n"
          ]
        }
      ]
    },
    {
      "cell_type": "code",
      "source": [
        "cd twint\\"
      ],
      "metadata": {
        "colab": {
          "base_uri": "https://localhost:8080/"
        },
        "id": "-2ZUW4GHTntB",
        "outputId": "3e6d44f4-ec12-4ea2-8587-64f4c624f835"
      },
      "execution_count": null,
      "outputs": [
        {
          "output_type": "stream",
          "name": "stdout",
          "text": [
            "/content/sample_data/twint_fixed/twint\n"
          ]
        }
      ]
    },
    {
      "cell_type": "code",
      "source": [
        "pip install -r requirements.txt"
      ],
      "metadata": {
        "id": "ZQ39iZq31x2u",
        "colab": {
          "base_uri": "https://localhost:8080/",
          "height": 1000
        },
        "outputId": "ab15ad3d-38c4-46dc-d0c8-aa7c4aac37b1"
      },
      "execution_count": null,
      "outputs": [
        {
          "output_type": "stream",
          "name": "stdout",
          "text": [
            "Looking in indexes: https://pypi.org/simple, https://us-python.pkg.dev/colab-wheels/public/simple/\n",
            "Collecting aiohttp==3.7.0\n",
            "  Downloading aiohttp-3.7.0-cp37-cp37m-manylinux2014_x86_64.whl (1.3 MB)\n",
            "\u001b[K     |████████████████████████████████| 1.3 MB 6.5 MB/s \n",
            "\u001b[?25hCollecting aiodns\n",
            "  Downloading aiodns-3.0.0-py3-none-any.whl (5.0 kB)\n",
            "Requirement already satisfied: beautifulsoup4 in /usr/local/lib/python3.7/dist-packages (from -r requirements.txt (line 3)) (4.6.3)\n",
            "Collecting cchardet\n",
            "  Downloading cchardet-2.1.7-cp37-cp37m-manylinux2010_x86_64.whl (263 kB)\n",
            "\u001b[K     |████████████████████████████████| 263 kB 44.9 MB/s \n",
            "\u001b[?25hCollecting dataclasses\n",
            "  Downloading dataclasses-0.6-py3-none-any.whl (14 kB)\n",
            "Collecting elasticsearch\n",
            "  Downloading elasticsearch-8.3.1-py3-none-any.whl (382 kB)\n",
            "\u001b[K     |████████████████████████████████| 382 kB 47.7 MB/s \n",
            "\u001b[?25hRequirement already satisfied: pysocks in /usr/local/lib/python3.7/dist-packages (from -r requirements.txt (line 7)) (1.7.1)\n",
            "Requirement already satisfied: pandas>=0.23.0 in /usr/local/lib/python3.7/dist-packages (from -r requirements.txt (line 8)) (1.3.5)\n",
            "Collecting aiohttp_socks<=0.4.1\n",
            "  Downloading aiohttp_socks-0.4.1-py3-none-any.whl (17 kB)\n",
            "Collecting schedule\n",
            "  Downloading schedule-1.1.0-py2.py3-none-any.whl (10 kB)\n",
            "Requirement already satisfied: geopy in /usr/local/lib/python3.7/dist-packages (from -r requirements.txt (line 11)) (1.17.0)\n",
            "Collecting fake-useragent\n",
            "  Downloading fake-useragent-0.1.11.tar.gz (13 kB)\n",
            "Collecting googletransx\n",
            "  Downloading googletransx-2.4.2.tar.gz (13 kB)\n",
            "Requirement already satisfied: chardet<4.0,>=2.0 in /usr/local/lib/python3.7/dist-packages (from aiohttp==3.7.0->-r requirements.txt (line 1)) (3.0.4)\n",
            "Requirement already satisfied: attrs>=17.3.0 in /usr/local/lib/python3.7/dist-packages (from aiohttp==3.7.0->-r requirements.txt (line 1)) (21.4.0)\n",
            "Requirement already satisfied: multidict<7.0,>=4.5 in /usr/local/lib/python3.7/dist-packages (from aiohttp==3.7.0->-r requirements.txt (line 1)) (6.0.2)\n",
            "Requirement already satisfied: yarl<2.0,>=1.0 in /usr/local/lib/python3.7/dist-packages (from aiohttp==3.7.0->-r requirements.txt (line 1)) (1.7.2)\n",
            "Collecting async-timeout<4.0,>=3.0\n",
            "  Downloading async_timeout-3.0.1-py3-none-any.whl (8.2 kB)\n",
            "Requirement already satisfied: python-dateutil>=2.7.3 in /usr/local/lib/python3.7/dist-packages (from pandas>=0.23.0->-r requirements.txt (line 8)) (2.8.2)\n",
            "Requirement already satisfied: pytz>=2017.3 in /usr/local/lib/python3.7/dist-packages (from pandas>=0.23.0->-r requirements.txt (line 8)) (2022.1)\n",
            "Requirement already satisfied: numpy>=1.17.3 in /usr/local/lib/python3.7/dist-packages (from pandas>=0.23.0->-r requirements.txt (line 8)) (1.21.6)\n",
            "Requirement already satisfied: six>=1.5 in /usr/local/lib/python3.7/dist-packages (from python-dateutil>=2.7.3->pandas>=0.23.0->-r requirements.txt (line 8)) (1.15.0)\n",
            "Requirement already satisfied: typing-extensions>=3.7.4 in /usr/local/lib/python3.7/dist-packages (from yarl<2.0,>=1.0->aiohttp==3.7.0->-r requirements.txt (line 1)) (4.1.1)\n",
            "Requirement already satisfied: idna>=2.0 in /usr/local/lib/python3.7/dist-packages (from yarl<2.0,>=1.0->aiohttp==3.7.0->-r requirements.txt (line 1)) (2.10)\n",
            "Collecting pycares>=4.0.0\n",
            "  Downloading pycares-4.2.1-cp37-cp37m-manylinux_2_5_x86_64.manylinux1_x86_64.manylinux_2_12_x86_64.manylinux2010_x86_64.whl (291 kB)\n",
            "\u001b[K     |████████████████████████████████| 291 kB 60.5 MB/s \n",
            "\u001b[?25hRequirement already satisfied: cffi>=1.5.0 in /usr/local/lib/python3.7/dist-packages (from pycares>=4.0.0->aiodns->-r requirements.txt (line 2)) (1.15.1)\n",
            "Requirement already satisfied: pycparser in /usr/local/lib/python3.7/dist-packages (from cffi>=1.5.0->pycares>=4.0.0->aiodns->-r requirements.txt (line 2)) (2.21)\n",
            "Collecting elastic-transport<9,>=8\n",
            "  Downloading elastic_transport-8.1.2-py3-none-any.whl (59 kB)\n",
            "\u001b[K     |████████████████████████████████| 59 kB 7.1 MB/s \n",
            "\u001b[?25hRequirement already satisfied: certifi in /usr/local/lib/python3.7/dist-packages (from elastic-transport<9,>=8->elasticsearch->-r requirements.txt (line 6)) (2022.6.15)\n",
            "Collecting urllib3<2,>=1.26.2\n",
            "  Downloading urllib3-1.26.11-py2.py3-none-any.whl (139 kB)\n",
            "\u001b[K     |████████████████████████████████| 139 kB 57.5 MB/s \n",
            "\u001b[?25hRequirement already satisfied: geographiclib<2,>=1.49 in /usr/local/lib/python3.7/dist-packages (from geopy->-r requirements.txt (line 11)) (1.52)\n",
            "Requirement already satisfied: requests in /usr/local/lib/python3.7/dist-packages (from googletransx->-r requirements.txt (line 13)) (2.23.0)\n",
            "Collecting requests\n",
            "  Downloading requests-2.28.1-py3-none-any.whl (62 kB)\n",
            "\u001b[K     |████████████████████████████████| 62 kB 1.5 MB/s \n",
            "\u001b[?25hRequirement already satisfied: charset-normalizer<3,>=2 in /usr/local/lib/python3.7/dist-packages (from requests->googletransx->-r requirements.txt (line 13)) (2.1.0)\n",
            "Building wheels for collected packages: fake-useragent, googletransx\n",
            "  Building wheel for fake-useragent (setup.py) ... \u001b[?25l\u001b[?25hdone\n",
            "  Created wheel for fake-useragent: filename=fake_useragent-0.1.11-py3-none-any.whl size=13502 sha256=77b11c63dea5dcc099188e7f42562ee86dce45011a4a6876093a1ff5e1f2afa4\n",
            "  Stored in directory: /root/.cache/pip/wheels/ed/f7/62/50ab6c9a0b5567267ab76a9daa9d06315704209b2c5d032031\n",
            "  Building wheel for googletransx (setup.py) ... \u001b[?25l\u001b[?25hdone\n",
            "  Created wheel for googletransx: filename=googletransx-2.4.2-py3-none-any.whl size=15968 sha256=26d57bec9edc10f07b1f46e08d722cf4c12b138eff31787eb3e0dbee43e34700\n",
            "  Stored in directory: /root/.cache/pip/wheels/66/d5/b1/31104b338f7fd45aa8f7d22587765db06773b13df48a89735f\n",
            "Successfully built fake-useragent googletransx\n",
            "Installing collected packages: urllib3, async-timeout, requests, pycares, elastic-transport, aiohttp, schedule, googletransx, fake-useragent, elasticsearch, dataclasses, cchardet, aiohttp-socks, aiodns\n",
            "  Attempting uninstall: urllib3\n",
            "    Found existing installation: urllib3 1.24.3\n",
            "    Uninstalling urllib3-1.24.3:\n",
            "      Successfully uninstalled urllib3-1.24.3\n",
            "  Attempting uninstall: async-timeout\n",
            "    Found existing installation: async-timeout 4.0.2\n",
            "    Uninstalling async-timeout-4.0.2:\n",
            "      Successfully uninstalled async-timeout-4.0.2\n",
            "  Attempting uninstall: requests\n",
            "    Found existing installation: requests 2.23.0\n",
            "    Uninstalling requests-2.23.0:\n",
            "      Successfully uninstalled requests-2.23.0\n",
            "  Attempting uninstall: aiohttp\n",
            "    Found existing installation: aiohttp 3.8.1\n",
            "    Uninstalling aiohttp-3.8.1:\n",
            "      Successfully uninstalled aiohttp-3.8.1\n",
            "\u001b[31mERROR: pip's dependency resolver does not currently take into account all the packages that are installed. This behaviour is the source of the following dependency conflicts.\n",
            "google-colab 1.0.0 requires requests~=2.23.0, but you have requests 2.28.1 which is incompatible.\n",
            "datascience 0.10.6 requires folium==0.2.1, but you have folium 0.8.3 which is incompatible.\u001b[0m\n",
            "Successfully installed aiodns-3.0.0 aiohttp-3.7.0 aiohttp-socks-0.4.1 async-timeout-3.0.1 cchardet-2.1.7 dataclasses-0.6 elastic-transport-8.1.2 elasticsearch-8.3.1 fake-useragent-0.1.11 googletransx-2.4.2 pycares-4.2.1 requests-2.28.1 schedule-1.1.0 urllib3-1.26.11\n"
          ]
        },
        {
          "output_type": "display_data",
          "data": {
            "application/vnd.colab-display-data+json": {
              "pip_warning": {
                "packages": [
                  "dataclasses"
                ]
              }
            }
          },
          "metadata": {}
        }
      ]
    },
    {
      "cell_type": "code",
      "source": [
        "!pip install nest_asyncio\n",
        "import nest_asyncio\n",
        "nest_asyncio.apply()"
      ],
      "metadata": {
        "id": "lFCtPlSPK4nR",
        "colab": {
          "base_uri": "https://localhost:8080/"
        },
        "outputId": "6e9fda98-8406-437a-dce1-c4fc45a5f7a4"
      },
      "execution_count": null,
      "outputs": [
        {
          "output_type": "stream",
          "name": "stdout",
          "text": [
            "Looking in indexes: https://pypi.org/simple, https://us-python.pkg.dev/colab-wheels/public/simple/\n",
            "Requirement already satisfied: nest_asyncio in /usr/local/lib/python3.7/dist-packages (1.5.5)\n"
          ]
        }
      ]
    },
    {
      "cell_type": "code",
      "source": [
        "from google.colab import drive\n",
        "drive.mount('drive')"
      ],
      "metadata": {
        "id": "idLCKptlbgY5"
      },
      "execution_count": null,
      "outputs": []
    },
    {
      "cell_type": "code",
      "source": [
        "import twint"
      ],
      "metadata": {
        "id": "9W8OuRng5KHp"
      },
      "execution_count": null,
      "outputs": []
    },
    {
      "cell_type": "code",
      "source": [
        "def tweet_parse(us_nm, srch_list, file_name, lim):\n",
        "\n",
        "  # us_nm - List - Username\\Usernames who we wants to find\n",
        "  # srch_list - List - list what we wants to find\n",
        "  # file_name - Str - how we wants to name upload file\n",
        "  # lim - int - limit of upload tweets for each username, search\n",
        "  # from all columnes leaves id, date, username, tweet, replies_ retweets_ likes_ counts, hashtags\n",
        "    \n",
        "  if len(us_nm) > 0:\n",
        "    for i in us_nm:\n",
        "      twe = twint.Config()\n",
        "\n",
        "      twe.Username = i\n",
        "      twe.Limit = lim\n",
        "\n",
        "      twe.Store_csv = True\n",
        "      twe.Output = f'/data_{file_name}.csv'\n",
        "\n",
        "      twint.run.Search(twe)\n",
        "\n",
        "      twint.run.Search(twe)\n",
        "\n",
        "      twint.run.Search(twe)\n",
        "\n",
        "  if len(srch_list) > 0:\n",
        "    for j in srch_list:\n",
        "\n",
        "      twe_2 = twint.Config()\n",
        "\n",
        "      twe_2.Search = j\n",
        "      twe_2.Limit = lim\n",
        "\n",
        "      twe_2.Store_csv = True\n",
        "      twe_2.Output = f'/data_{file_name}.csv'\n",
        "\n",
        "      twint.run.Search(twe_2)\n",
        "\n",
        "      twint.run.Search(twe_2)\n",
        "\n",
        "      twint.run.Search(twe_2)\n",
        "\n",
        "  df = pd.read_csv(f'/data_{file_name}.csv')\n",
        "\n",
        "  df.drop(['conversation_id', 'created_at', 'time', 'timezone', 'user_id', 'name', 'place', 'language', 'mentions',\n",
        "       'urls', 'photos','cashtags', 'link', 'retweet', 'quote_url', 'video', 'thumbnail', 'near', 'geo', 'source', 'user_rt_id', \n",
        "       'user_rt','retweet_id', 'reply_to', 'retweet_date', 'translate', 'trans_src','trans_dest'],\n",
        "       axis = 1, inplace = True)\n",
        "  \n",
        "  df.drop_duplicates(subset=['id'], inplace = True)\n",
        "  \n",
        "  df.to_csv(file_name + '.csv', index = False)\n",
        "\n",
        "  \n",
        "  files.download(file_name + '.csv')\n"
      ],
      "metadata": {
        "id": "8EYxFpxKPFFR"
      },
      "execution_count": null,
      "outputs": []
    },
    {
      "cell_type": "code",
      "source": [
        "nm = []\n",
        "srch_l = ['фонд потанина']\n",
        "fl_nm = 'potanin'\n",
        "lim = 100"
      ],
      "metadata": {
        "id": "e2GtSX8FvENr"
      },
      "execution_count": null,
      "outputs": []
    },
    {
      "cell_type": "code",
      "source": [
        "tweet_parse(nm, srch_l, fl_nm, lim)"
      ],
      "metadata": {
        "id": "Cli8pgUYv0RG"
      },
      "execution_count": null,
      "outputs": []
    },
    {
      "cell_type": "code",
      "source": [
        "nm = ['fondtimchenko']\n",
        "srch_l = ['fondtimchenko', 'timchenkofoundation', 'Фонд Тимченко', 'Тимченко Фонд', 'Фонд Елены и Геннадия Тимченко']\n",
        "fl_nm = 'fondtimchenko'"
      ],
      "metadata": {
        "id": "vWcTUapt5dK-"
      },
      "execution_count": null,
      "outputs": []
    },
    {
      "cell_type": "code",
      "source": [
        "tweet_parse(nm, srch_l, fl_nm, lim)"
      ],
      "metadata": {
        "id": "1M9HQ1HaanSy"
      },
      "execution_count": null,
      "outputs": []
    },
    {
      "cell_type": "code",
      "source": [
        "nm = []\n",
        "srch_l = ['Фонд «Искусство, наука и спорт»']\n",
        "fl_nm = 'fomd_ins'"
      ],
      "metadata": {
        "id": "ydf-lNbvarEd"
      },
      "execution_count": null,
      "outputs": []
    },
    {
      "cell_type": "code",
      "source": [
        "tweet_parse(nm, srch_l, fl_nm, lim)"
      ],
      "metadata": {
        "id": "YzTNjAtdbxdy"
      },
      "execution_count": null,
      "outputs": []
    },
    {
      "cell_type": "code",
      "source": [
        "nm = []\n",
        "srch_l = ['Фонд «Базис»']\n",
        "fl_nm = 'fomd_bazis'"
      ],
      "metadata": {
        "id": "9nkEXoQBb0P3"
      },
      "execution_count": null,
      "outputs": []
    },
    {
      "cell_type": "code",
      "source": [
        "tweet_parse(nm, srch_l, fl_nm, lim)"
      ],
      "metadata": {
        "id": "EEZxSx1mcttB"
      },
      "execution_count": null,
      "outputs": []
    },
    {
      "cell_type": "code",
      "source": [
        "nm = []\n",
        "srch_l = ['Фонд «Абсолют-Помощь»']\n",
        "fl_nm = 'fomd_abs_help'"
      ],
      "metadata": {
        "id": "5M3xtcMHcxfw"
      },
      "execution_count": null,
      "outputs": []
    },
    {
      "cell_type": "code",
      "source": [
        "tweet_parse(nm, srch_l, fl_nm, lim)"
      ],
      "metadata": {
        "id": "BvmGyuc_dMq9"
      },
      "execution_count": null,
      "outputs": []
    },
    {
      "cell_type": "code",
      "source": [
        "nm = ['uralfondnb']\n",
        "srch_l = ['uralfondnb', 'fondnb', 'Фонд Наше Будущее', 'Наше Будущее Фонд']\n",
        "fl_nm = 'fomd_our_future'"
      ],
      "metadata": {
        "id": "3fToJKs4dYoG"
      },
      "execution_count": null,
      "outputs": []
    },
    {
      "cell_type": "code",
      "source": [
        "tweet_parse(nm, srch_l, fl_nm, lim)"
      ],
      "metadata": {
        "id": "JjHTgFmDeDPR"
      },
      "execution_count": null,
      "outputs": []
    },
    {
      "cell_type": "code",
      "source": [
        "nm = []\n",
        "srch_l = ['Фонд «Сафмар»']\n",
        "fl_nm = 'fomd_samfar'"
      ],
      "metadata": {
        "id": "cMhiM4DseGdE"
      },
      "execution_count": null,
      "outputs": []
    },
    {
      "cell_type": "code",
      "source": [
        "tweet_parse(nm, srch_l, fl_nm, lim)"
      ],
      "metadata": {
        "id": "Av6vuQXeenDp"
      },
      "execution_count": null,
      "outputs": []
    },
    {
      "cell_type": "code",
      "source": [
        "nm = []\n",
        "srch_l = ['Фонд Михаила Прохорова', 'Фонд М. Прохорова', 'Фонд Прохорова']\n",
        "fl_nm = 'fomd_m_prohor'"
      ],
      "metadata": {
        "id": "pbSBFaUKeyp2"
      },
      "execution_count": null,
      "outputs": []
    },
    {
      "cell_type": "code",
      "source": [
        "tweet_parse(nm, srch_l, fl_nm, lim)"
      ],
      "metadata": {
        "id": "yiT5tDB1e6AB"
      },
      "execution_count": null,
      "outputs": []
    },
    {
      "cell_type": "code",
      "source": [
        "nm = []\n",
        "srch_l = ['#Рыбаковфонд', '«Рыбаков Фонд»']\n",
        "fl_nm = 'fomd_rybakov'"
      ],
      "metadata": {
        "id": "Qu29W-Tmfm3t"
      },
      "execution_count": null,
      "outputs": []
    },
    {
      "cell_type": "code",
      "source": [
        "tweet_parse(nm, srch_l, fl_nm, lim)"
      ],
      "metadata": {
        "id": "_7ddhzG5gHQy"
      },
      "execution_count": null,
      "outputs": []
    },
    {
      "cell_type": "code",
      "source": [
        "nm = ['svetlyak37']\n",
        "srch_l = ['svetlyak37', 'Фонд Олега Дерипаска', 'Фонд Дерипаска', 'Фонд Олега Дерипаска Вольное Дело', 'Фонд Вольное Дело', 'Фонд Дерипаска Вольное Дело']\n",
        "fl_nm = 'fomd_volnoe_delo'"
      ],
      "metadata": {
        "id": "r1JwMLOjgJCd"
      },
      "execution_count": null,
      "outputs": []
    },
    {
      "cell_type": "code",
      "source": [
        "tweet_parse(nm, srch_l, fl_nm, lim)"
      ],
      "metadata": {
        "id": "evaldh2Og_07"
      },
      "execution_count": null,
      "outputs": []
    },
    {
      "cell_type": "code",
      "source": [
        "nm = []\n",
        "srch_l = ['Фонд \"Агат\"']\n",
        "fl_nm = 'fomd_agat'"
      ],
      "metadata": {
        "id": "Xb5drGUvhbjr"
      },
      "execution_count": null,
      "outputs": []
    },
    {
      "cell_type": "code",
      "source": [
        "tweet_parse(nm, srch_l, fl_nm, lim)"
      ],
      "metadata": {
        "id": "oeUBQ-8iiKrJ"
      },
      "execution_count": null,
      "outputs": []
    },
    {
      "cell_type": "code",
      "source": [
        "nm = []\n",
        "srch_l = ['Фонд «Хамовники»']\n",
        "fl_nm = 'fond_hamovniki'"
      ],
      "metadata": {
        "id": "5uJbfU8YiL78"
      },
      "execution_count": null,
      "outputs": []
    },
    {
      "cell_type": "code",
      "source": [
        "tweet_parse(nm, srch_l, fl_nm, lim)"
      ],
      "metadata": {
        "id": "40x5g72-ikbp"
      },
      "execution_count": null,
      "outputs": []
    },
    {
      "cell_type": "code",
      "source": [
        "nm = []\n",
        "srch_l = ['Фонд Андрея Мельниченко', 'Фонд Мельниченко', 'Фонд А. Мельниченко']\n",
        "fl_nm = 'fond_melnichenko'"
      ],
      "metadata": {
        "id": "TFuHBTGAi9mN"
      },
      "execution_count": null,
      "outputs": []
    },
    {
      "cell_type": "code",
      "source": [
        "tweet_parse(nm, srch_l, fl_nm, lim)"
      ],
      "metadata": {
        "id": "Ur31sGasjZVH"
      },
      "execution_count": null,
      "outputs": []
    },
    {
      "cell_type": "code",
      "source": [
        "nm = []\n",
        "srch_l = ['Фонд «Дар»']\n",
        "fl_nm = 'fond_dar'"
      ],
      "metadata": {
        "id": "VdasozdYjuxC"
      },
      "execution_count": null,
      "outputs": []
    },
    {
      "cell_type": "code",
      "source": [
        "tweet_parse(nm, srch_l, fl_nm, lim)"
      ],
      "metadata": {
        "id": "WKiGoI5ekIEE"
      },
      "execution_count": null,
      "outputs": []
    },
    {
      "cell_type": "code",
      "source": [
        "nm = ['fondsvet61']\n",
        "srch_l = ['fondsvet61', 'Фонд «Свет»']\n",
        "fl_nm = 'fond_svet'"
      ],
      "metadata": {
        "id": "Ru_tgZtDk0_V"
      },
      "execution_count": null,
      "outputs": []
    },
    {
      "cell_type": "code",
      "source": [
        "tweet_parse(nm, srch_l, fl_nm, lim)"
      ],
      "metadata": {
        "id": "qnxFpjNVl8Sc"
      },
      "execution_count": null,
      "outputs": []
    },
    {
      "cell_type": "code",
      "source": [
        "nm = []\n",
        "srch_l = ['Фонд культурно-музыкального наследия Муслима Магомаева']\n",
        "fl_nm = 'fond_muslim_magomaev'"
      ],
      "metadata": {
        "id": "Q6NttWGfmDTu"
      },
      "execution_count": null,
      "outputs": []
    },
    {
      "cell_type": "code",
      "source": [
        "tweet_parse(nm, srch_l, fl_nm, lim)"
      ],
      "metadata": {
        "id": "7GUvSiS2mh4b"
      },
      "execution_count": null,
      "outputs": []
    },
    {
      "cell_type": "code",
      "source": [
        "nm = []\n",
        "srch_l = ['Фонд «Ноосфера»']\n",
        "fl_nm = 'fond_noosphera'"
      ],
      "metadata": {
        "id": "VHZRtgjrms1b"
      },
      "execution_count": null,
      "outputs": []
    },
    {
      "cell_type": "code",
      "source": [
        "tweet_parse(nm, srch_l, fl_nm, lim)"
      ],
      "metadata": {
        "id": "Qh29sctWnv-Q"
      },
      "execution_count": null,
      "outputs": []
    },
    {
      "cell_type": "code",
      "source": [
        ""
      ],
      "metadata": {
        "id": "7eMt3qnDnzGe"
      },
      "execution_count": null,
      "outputs": []
    }
  ]
}